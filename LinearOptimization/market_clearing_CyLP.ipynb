{
 "cells": [
  {
   "cell_type": "code",
   "execution_count": 231,
   "metadata": {
    "collapsed": false
   },
   "outputs": [],
   "source": [
    "from cylp.cy import CyClpSimplex\n",
    "from cylp.py.modeling.CyLPModel import CyLPArray\n",
    "import numpy as np"
   ]
  },
  {
   "cell_type": "code",
   "execution_count": 232,
   "metadata": {
    "collapsed": false
   },
   "outputs": [],
   "source": [
    "qtyD = ([250,300,120,80,40,70,60,45,30,35,25,10])\n",
    "qtyG = ([120,50,200,400,60,50,60,100,70,50,70,45,50,60,50])\n",
    "priceD = np.array(-1 * np.array([200,110,100,90,85,75,65,40,37.5,30,24,15]))\n",
    "priceG = np.array([0,0,15,30,32.5,34,36,37.5,39,40,60,70,100,150,200])"
   ]
  },
  {
   "cell_type": "code",
   "execution_count": 233,
   "metadata": {
    "collapsed": false
   },
   "outputs": [],
   "source": [
    "s = CyClpSimplex()"
   ]
  },
  {
   "cell_type": "code",
   "execution_count": 234,
   "metadata": {
    "collapsed": false
   },
   "outputs": [
    {
     "name": "stderr",
     "output_type": "stream",
     "text": [
      "/usr/local/lib/python2.7/site-packages/ipykernel/__main__.py:1: FutureWarning: comparison to `None` will result in an elementwise object comparison in the future.\n",
      "  if __name__ == '__main__':\n"
     ]
    }
   ],
   "source": [
    "y = s.addVariable('y', c.shape[0])"
   ]
  },
  {
   "cell_type": "code",
   "execution_count": 235,
   "metadata": {
    "collapsed": true
   },
   "outputs": [],
   "source": [
    "# Equality Constaraint"
   ]
  },
  {
   "cell_type": "code",
   "execution_count": 236,
   "metadata": {
    "collapsed": false
   },
   "outputs": [],
   "source": [
    "Aeq = np.matrix(np.append(np.repeat(1,priceG.shape[0]),np.repeat(-1,priceD.shape[0])))\n",
    "beq = CyLPArray([0.])"
   ]
  },
  {
   "cell_type": "code",
   "execution_count": 237,
   "metadata": {
    "collapsed": true
   },
   "outputs": [],
   "source": [
    "# Inequality Constaraint"
   ]
  },
  {
   "cell_type": "code",
   "execution_count": 238,
   "metadata": {
    "collapsed": false
   },
   "outputs": [],
   "source": [
    "A = np.matrix(np.diag(np.array(np.repeat(1,c.shape[0]))))\n",
    "b = CyLPArray(np.append(qtyG,qtyD)).astype('double')"
   ]
  },
  {
   "cell_type": "code",
   "execution_count": 239,
   "metadata": {
    "collapsed": false
   },
   "outputs": [],
   "source": [
    "# Objective "
   ]
  },
  {
   "cell_type": "code",
   "execution_count": 240,
   "metadata": {
    "collapsed": false
   },
   "outputs": [],
   "source": [
    "c  = CyLPArray(np.append(priceG,priceD))"
   ]
  },
  {
   "cell_type": "code",
   "execution_count": 248,
   "metadata": {
    "collapsed": false
   },
   "outputs": [],
   "source": [
    "s += Aeq * y == beq \n",
    "s += A * y <= b\n",
    "s += y >= 0"
   ]
  },
  {
   "cell_type": "code",
   "execution_count": 249,
   "metadata": {
    "collapsed": true
   },
   "outputs": [],
   "source": [
    "s.objective = c.T * y"
   ]
  },
  {
   "cell_type": "code",
   "execution_count": 250,
   "metadata": {
    "collapsed": false
   },
   "outputs": [
    {
     "data": {
      "text/plain": [
       "'optimal'"
      ]
     },
     "execution_count": 250,
     "metadata": {},
     "output_type": "execute_result"
    }
   ],
   "source": [
    "s.primal()"
   ]
  },
  {
   "cell_type": "code",
   "execution_count": 251,
   "metadata": {
    "collapsed": false
   },
   "outputs": [
    {
     "name": "stdout",
     "output_type": "stream",
     "text": [
      "[ 120.   50.  200.  400.   60.   50.   60.   25.    0.    0.    0.    0.\n",
      "    0.    0.    0.  250.  300.  120.   80.   40.   70.   60.   45.    0.\n",
      "    0.    0.    0.]\n"
     ]
    }
   ],
   "source": [
    "print s.primalVariableSolution['y']"
   ]
  },
  {
   "cell_type": "code",
   "execution_count": 254,
   "metadata": {
    "collapsed": false
   },
   "outputs": [
    {
     "data": {
      "text/plain": [
       "{'R_78': array([ 37.5]),\n",
       " 'R_79': array([-37.5, -37.5,   0. ,   0. ,   0. ,   0. ,   0. ,   0. ,   0. ,\n",
       "          0. ,   0. ,   0. ,   0. ,   0. ,   0. ,   0. ,   0. ,   0. ,\n",
       "          0. ,   0. ,   0. ,   0. ,   0. ,   0. ,   0. ,   0. ,   0. ]),\n",
       " 'R_82': array([ 0.]),\n",
       " 'R_83': array([   0. ,    0. ,  -22.5,   -7.5,   -5. ,   -3.5,   -1.5,    0. ,\n",
       "           0. ,    0. ,    0. ,    0. ,    0. ,    0. ,    0. , -162.5,\n",
       "         -72.5,  -62.5,  -52.5,  -47.5,  -37.5,  -27.5,   -2.5,    0. ,\n",
       "           0. ,    0. ,    0. ])}"
      ]
     },
     "execution_count": 254,
     "metadata": {},
     "output_type": "execute_result"
    }
   ],
   "source": [
    "s.dualConstraintSolution"
   ]
  }
 ],
 "metadata": {
  "kernelspec": {
   "display_name": "Python 2",
   "language": "python",
   "name": "python2"
  },
  "language_info": {
   "codemirror_mode": {
    "name": "ipython",
    "version": 2
   },
   "file_extension": ".py",
   "mimetype": "text/x-python",
   "name": "python",
   "nbconvert_exporter": "python",
   "pygments_lexer": "ipython2",
   "version": "2.7.9"
  }
 },
 "nbformat": 4,
 "nbformat_minor": 0
}
